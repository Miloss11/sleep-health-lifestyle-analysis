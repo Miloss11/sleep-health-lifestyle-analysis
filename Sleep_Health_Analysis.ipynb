{
 "cells": [
  {
   "cell_type": "code",
   "execution_count": null,
   "metadata": {},
   "outputs": [],
   "source": [
    "import pandas as pd\n",
    "import matplotlib.pyplot as plt\n",
    "import seaborn as sns\n",
    "\n",
    "# Load the data\n",
    "df = pd.read_csv('data.csv')\n",
    "\n",
    "# Display the first 5 rows\n",
    "print(df.head())\n",
    "\n",
    "# Average sleep duration by gender\n",
    "sns.barplot(x='gender', y='sleep_hours', data=df)\n",
    "plt.title('Average Sleep Hours by Gender')\n",
    "plt.show()\n",
    "\n",
    "# Sleep quality depending on stress level\n",
    "sns.boxplot(x='stress_level', y='sleep_quality', data=df)\n",
    "plt.title('Sleep Quality vs Stress Level')\n",
    "plt.show()\n",
    "\n",
    "# Physical activity vs sleep duration\n",
    "sns.scatterplot(x='physical_activity', y='sleep_hours', hue='gender', data=df)\n",
    "plt.title('Physical Activity vs Sleep Hours')\n",
    "plt.show()\n",
    "\n",
    "# BMI vs sleep quality\n",
    "sns.scatterplot(x='bmi', y='sleep_quality', data=df)\n",
    "plt.title('BMI vs Sleep Quality')\n",
    "plt.show()\n"
   ]
  }
 ],
 "metadata": {
  "kernelspec": {
   "display_name": "Python 3",
   "language": "python",
   "name": "python3"
  },
  "language_info": {
   "name": "python",
   "version": "3.10"
  }
 },
 "nbformat": 4,
 "nbformat_minor": 5
}
